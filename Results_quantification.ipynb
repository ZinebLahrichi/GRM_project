{
 "cells": [
  {
   "cell_type": "markdown",
   "metadata": {},
   "source": [
    "# Quantification"
   ]
  },
  {
   "cell_type": "markdown",
   "metadata": {},
   "source": [
    "This notebook helps quantifying the results of the various approaches implemente.\n",
    "It uses the dice metric to quantify the results.\n",
    "Please see the notebook: 'load_coco.ipynb' to load an image and its ground truth and use 'drawing.ipynb' to draw the scribbles on the image"
   ]
  },
  {
   "cell_type": "code",
   "execution_count": 1,
   "metadata": {},
   "outputs": [],
   "source": [
    "import skimage.io as io\n",
    "import matplotlib.pyplot as plt\n",
    "from tqdm import tqdm\n",
    "from tools import *\n",
    "from utils_texture import compute_texture_info, compute_segmentation, compute_probability,  create_scribble, compute_distance, plot_segmentation_and_image\n",
    "from tools import dice\n",
    "from scipy.ndimage import gaussian_filter\n",
    "from scipy.spatial import distance\n",
    "import cv2\n",
    "import os \n",
    "import pickle"
   ]
  },
  {
   "cell_type": "code",
   "execution_count": 2,
   "metadata": {},
   "outputs": [],
   "source": [
    "showScribble =  False\n",
    "showDistanceMap = False\n",
    "showSegmentation = False\n",
    "NB_ITERS = 50\n",
    "alpha = 30  # Distance parameter: indicates how segmentation is locally sensible to the input scribble\n",
    "sigma = 30  # Smoothing parameter: indicates how segmentation depends on color\n",
    "LMBD = 30  # Regularization parameter:\n",
    "eps = 10e-7\n",
    "USE_DIST = True\n",
    "USE_COLOR = True\n",
    "MARGINAL = False\n",
    "color_palette = [[0, 1, 1], [1, 0, 0], [0, 0, 1], [0, 1, 0], [1, 1, 1], [0.5, 0.5, 0]]\n",
    "###########################################################################################"
   ]
  },
  {
   "cell_type": "code",
   "execution_count": 3,
   "metadata": {},
   "outputs": [
    {
     "data": {
      "text/plain": [
       "<matplotlib.image.AxesImage at 0x2b710790640>"
      ]
     },
     "execution_count": 3,
     "metadata": {},
     "output_type": "execute_result"
    },
    {
     "data": {
      "image/png": "[encoded data removed]",
      "text/plain": [
       "<Figure size 432x288 with 1 Axes>"
      ]
     },
     "metadata": {
      "needs_background": "light"
     },
     "output_type": "display_data"
    }
   ],
   "source": [
    "img_name = 'bus'\n",
    "original_img = plt.imread(f'input/{img_name}.jpg')\n",
    "ground_truth = np.load(f'input/{img_name}_gt.npy')\n",
    "plt.imshow(ground_truth.astype('uint8'), cmap = \"gray\")"
   ]
  },
  {
   "cell_type": "markdown",
   "metadata": {},
   "source": [
    "## Quantification performances with textures"
   ]
  },
  {
   "cell_type": "code",
   "execution_count": 4,
   "metadata": {},
   "outputs": [
    {
     "name": "stdout",
     "output_type": "stream",
     "text": [
      "number of texture channles: 0\n",
      ">> Computing shortest path to scribble...\n",
      ">> Computing segmentation...\n"
     ]
    },
    {
     "name": "stderr",
     "output_type": "stream",
     "text": [
      " 71%|███████   | 279/393 [01:28<00:36,  3.12it/s]"
     ]
    }
   ],
   "source": [
    "for i in range(10): # we will test with 0 to 10 textures channels\n",
    "    print(f'number of texture channles: {i}')\n",
    "    if os.path.isfile('output/textures_perfs.pkl'):\n",
    "        textures_perf = pickle.load(open('output/textures_perfs.pkl', 'rb'))\n",
    "    else:\n",
    "        textures_perf = dict()\n",
    "\n",
    "    if i not in textures_perf.keys():\n",
    "    \n",
    "        img = compute_texture_info(original_img, number_of_texture_filters_to_use = i)\n",
    "        img = img / np.max(img) * 255.\n",
    "        NB_CLASSES = 2\n",
    "\n",
    "        scribbles, X,Y,I = create_scribble(img, img_name, 'input/', showScribble, NB_CLASSES,color_palette)\n",
    "        # Compute shortest path to scribble (rho)\n",
    "        print('>> Computing shortest path to scribble...')\n",
    "        n, m = img.shape[:2]\n",
    "        dists  = compute_distance(img, X, Y, NB_CLASSES, showDistanceMap)\n",
    "\n",
    "        print('>> Computing segmentation...')\n",
    "        segmentation = compute_segmentation(img, scribbles, X, Y, I, dists, alpha, eps, sigma, USE_DIST, USE_COLOR, MARGINAL, NB_CLASSES, NB_ITERS, LMBD)\n",
    "        print('... Done')\n",
    "\n",
    "        dice_score = dice(ground_truth, segmentation)\n",
    "\n",
    "        # add the result to perf dict\n",
    "\n",
    "        textures_perf[i] = dice_score\n"
   ]
  },
  {
   "cell_type": "markdown",
   "metadata": {},
   "source": [
    "## Compare performances"
   ]
  },
  {
   "cell_type": "code",
   "execution_count": null,
   "metadata": {},
   "outputs": [
    {
     "name": "stdout",
     "output_type": "stream",
     "text": [
      "dice score with textures: 90.02\n",
      "dice score without textures: 91.84\n"
     ]
    }
   ],
   "source": [
    "plt.figure(figsize=(14, 12))\n",
    "plt.plot(list(textures_perf.keys()), list(textures_perf.values()))\n",
    "plt.title('dice score against the number of texture channels used')\n",
    "plt.xlabel('number of textures channels')\n",
    "plt.ylabel('dice score')\n",
    "plt.show()"
   ]
  }
 ],
 "metadata": {
  "interpreter": {
   "hash": "bff9d2d6bf68b5c3f13d20da38fc0fc2d41cf4ca3112b2d08581232ba2bbb105"
  },
  "kernelspec": {
   "display_name": "Python 3.8.10 ('venv': venv)",
   "language": "python",
   "name": "python3"
  },
  "language_info": {
   "codemirror_mode": {
    "name": "ipython",
    "version": 3
   },
   "file_extension": ".py",
   "mimetype": "text/x-python",
   "name": "python",
   "nbconvert_exporter": "python",
   "pygments_lexer": "ipython3",
   "version": "3.8.10"
  },
  "orig_nbformat": 4
 },
 "nbformat": 4,
 "nbformat_minor": 2
}
