{
 "cells": [
  {
   "cell_type": "code",
   "execution_count": 9,
   "metadata": {},
   "outputs": [],
   "source": [
    "import cv2\n",
    "import numpy as np \n",
    "import matplotlib.pyplot as plt\n",
    "\n",
    "def draw_scribbles(img_path):\n",
    "    \n",
    "    def draw(event,former_x,former_y, flag, param):\n",
    "        global current_former_x,current_former_y,color, drawing1, drawing2\n",
    "\n",
    "        if event==cv2.EVENT_LBUTTONDOWN:\n",
    "            drawing1 = True\n",
    "            drawing2 = False\n",
    "            color = (0,0,255)\n",
    "\n",
    "        elif event==cv2.EVENT_RBUTTONDOWN:\n",
    "            drawing1 = False\n",
    "            drawing2=True\n",
    "            color = (0,255,0)\n",
    "\n",
    "        elif event==cv2.EVENT_MOUSEMOVE:\n",
    "            if drawing1==True or drawing2==True:\n",
    "                cv2.line(im,(current_former_x,current_former_y),(former_x,former_y),color,3)\n",
    "                current_former_x = former_x\n",
    "                current_former_y = former_y\n",
    "            if drawing1:\n",
    "                cv2.line(scribbles_1,(current_former_x,current_former_y),(former_x,former_y),[0,0,0],1)\n",
    "            if drawing2:\n",
    "                cv2.line(scribbles_2,(current_former_x,current_former_y),(former_x,former_y),[0,0,0],1)\n",
    "            else:\n",
    "                current_former_x = former_x\n",
    "                current_former_y = former_y\n",
    "        elif event==cv2.EVENT_LBUTTONUP:\n",
    "            drawing1=False\n",
    "        elif event==cv2.EVENT_RBUTTONUP:\n",
    "            drawing2=False\n",
    "        return former_x,former_y    \n",
    "\n",
    "\n",
    "    im = cv2.imread(img_path)\n",
    "    scribbles_1 = np.array([[[255,255,255] for i in range(im.shape[1])]for j in range(im.shape[0])])\n",
    "    scribbles_2 = np.array([[[255,255,255] for i in range(im.shape[1])]for j in range(im.shape[0])])\n",
    "    \n",
    "\n",
    "    cv2.namedWindow(\"image\")\n",
    "    cv2.setMouseCallback('image',draw)\n",
    "\n",
    "    while(1):\n",
    "        cv2.imshow('image',im)\n",
    "        k=cv2.waitKey(1)&0xFF\n",
    "        if k==27:\n",
    "            break\n",
    "\n",
    "    cv2.destroyAllWindows()\n",
    "    plt.imsave(img_path[:-4]+'_1.png',scribbles_1.astype('uint8'))\n",
    "    plt.imsave(img_path[:-4]+'_2.png',scribbles_2.astype('uint8'))\n",
    "    return()"
   ]
  },
  {
   "cell_type": "code",
   "execution_count": 10,
   "metadata": {},
   "outputs": [
    {
     "data": {
      "text/plain": [
       "()"
      ]
     },
     "execution_count": 10,
     "metadata": {},
     "output_type": "execute_result"
    }
   ],
   "source": [
    "drawing2 = False\n",
    "drawing1 = False\n",
    "draw_scribbles('input/car.jpg')"
   ]
  }
 ],
 "metadata": {
  "interpreter": {
   "hash": "bff9d2d6bf68b5c3f13d20da38fc0fc2d41cf4ca3112b2d08581232ba2bbb105"
  },
  "kernelspec": {
   "display_name": "Python 3.8.10 ('venv': venv)",
   "language": "python",
   "name": "python3"
  },
  "language_info": {
   "codemirror_mode": {
    "name": "ipython",
    "version": 3
   },
   "file_extension": ".py",
   "mimetype": "text/x-python",
   "name": "python",
   "nbconvert_exporter": "python",
   "pygments_lexer": "ipython3",
   "version": "3.8.10"
  },
  "orig_nbformat": 4
 },
 "nbformat": 4,
 "nbformat_minor": 2
}
